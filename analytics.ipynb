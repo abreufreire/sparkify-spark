{
 "cells": [
  {
   "cell_type": "markdown",
   "source": [
    "## Analytics on S3 data (Parquet)"
   ],
   "metadata": {
    "collapsed": false
   }
  },
  {
   "cell_type": "code",
   "execution_count": 1,
   "metadata": {
    "pycharm": {
     "name": "#%%\n"
    }
   },
   "outputs": [
    {
     "data": {
      "text/plain": "['dl.cfg']"
     },
     "execution_count": 1,
     "metadata": {},
     "output_type": "execute_result"
    }
   ],
   "source": [
    "import boto3\n",
    "import configparser\n",
    "import matplotlib.pyplot as plt\n",
    "import numpy as np\n",
    "import os\n",
    "from pyspark.sql import SparkSession\n",
    "\n",
    "# read config file\n",
    "config = configparser.ConfigParser()\n",
    "config.read(\"dl.cfg\")"
   ]
  },
  {
   "cell_type": "markdown",
   "source": [
    "#### Define variables"
   ],
   "metadata": {
    "collapsed": false
   }
  },
  {
   "cell_type": "code",
   "execution_count": 2,
   "metadata": {
    "pycharm": {
     "name": "#%%\n"
    }
   },
   "outputs": [],
   "source": [
    "# data\n",
    "output_data = config.get(\"S3\", \"output_data\")\n",
    "\n",
    "# config\n",
    "AWS_KEY = config.get(\"default\", \"aws_access_key_id\")\n",
    "AWS_SECRET = config.get(\"default\", \"aws_secret_access_key\")\n",
    "REGION = config.get(\"S3\", \"region\")"
   ]
  },
  {
   "cell_type": "markdown",
   "source": [
    "#### Launch Spark session"
   ],
   "metadata": {
    "collapsed": false
   }
  },
  {
   "cell_type": "code",
   "execution_count": 3,
   "metadata": {
    "pycharm": {
     "name": "#%%\n"
    }
   },
   "outputs": [
    {
     "data": {
      "text/plain": "'\\nnotes:\\ns3a client interaction with buckets - hadoop property - fs.s3a.access.key & fs.s3a.secret.key\\nhttps://hadoop.apache.org/docs/r3.2.0/hadoop-aws/tools/hadoop-aws/index.html\\n'"
     },
     "execution_count": 3,
     "metadata": {},
     "output_type": "execute_result"
    }
   ],
   "source": [
    "spark = SparkSession \\\n",
    "    .builder \\\n",
    "    .appName(\"sparkify-etl\") \\\n",
    "    .config(\"spark.jars.packages\", \"org.apache.hadoop:hadoop-aws:3.2.0\") \\\n",
    "    .config(\"spark.hadoop.fs.s3a.impl\",\"org.apache.hadoop.fs.s3a.S3AFileSystem\") \\\n",
    "    .config(\"spark.hadoop.fs.s3a.access.key\", AWS_KEY) \\\n",
    "    .config(\"spark.hadoop.fs.s3a.secret.key\", AWS_SECRET) \\\n",
    "    .getOrCreate()\n",
    "\n",
    "\"\"\"\n",
    "notes:\n",
    "s3a client interaction with buckets - hadoop property - fs.s3a.access.key & fs.s3a.secret.key\n",
    "https://hadoop.apache.org/docs/r3.2.0/hadoop-aws/tools/hadoop-aws/index.html\n",
    "\"\"\""
   ]
  },
  {
   "cell_type": "markdown",
   "source": [
    "#### List S3 buckets (output storage location) in AWS"
   ],
   "metadata": {
    "collapsed": false
   }
  },
  {
   "cell_type": "code",
   "execution_count": 4,
   "outputs": [
    {
     "name": "stdout",
     "output_type": "stream",
     "text": [
      "buckets: ['abreufreire-output', 'abreufreire-script']\n"
     ]
    }
   ],
   "source": [
    "s3 = boto3.client(\"s3\",\n",
    "                  region_name=REGION,\n",
    "                  aws_access_key_id=AWS_KEY,\n",
    "                  aws_secret_access_key=AWS_SECRET\n",
    "                  )\n",
    "response = s3.list_buckets()\n",
    "bucket_list = [bucket[\"Name\"] for bucket in response[\"Buckets\"]]\n",
    "print(\"buckets:\", bucket_list)"
   ],
   "metadata": {
    "collapsed": false,
    "pycharm": {
     "name": "#%%\n"
    }
   }
  },
  {
   "cell_type": "markdown",
   "source": [
    "#### Read data from S3 bucket (Parquet format)"
   ],
   "metadata": {
    "collapsed": false
   }
  },
  {
   "cell_type": "code",
   "execution_count": 6,
   "metadata": {
    "pycharm": {
     "name": "#%%\n"
    }
   },
   "outputs": [],
   "source": [
    "songplays_df = spark.read.parquet(os.path.join(output_data, \"songplays/year=*/month=*/*.parquet\"))"
   ]
  },
  {
   "cell_type": "code",
   "execution_count": 7,
   "outputs": [],
   "source": [
    "artists_df = spark.read.parquet(os.path.join(output_data, \"artists/*.parquet\"))"
   ],
   "metadata": {
    "collapsed": false,
    "pycharm": {
     "name": "#%%\n"
    }
   }
  },
  {
   "cell_type": "code",
   "execution_count": 8,
   "outputs": [],
   "source": [
    "songs_df = spark.read.parquet(os.path.join(output_data, \"songs/year=*/artist_id=*/*.parquet\"))"
   ],
   "metadata": {
    "collapsed": false,
    "pycharm": {
     "name": "#%%\n"
    }
   }
  },
  {
   "cell_type": "code",
   "execution_count": 9,
   "outputs": [],
   "source": [
    "time_df = spark.read.parquet(os.path.join(output_data, \"time/year=*/month=*/*.parquet\"))"
   ],
   "metadata": {
    "collapsed": false,
    "pycharm": {
     "name": "#%%\n"
    }
   }
  },
  {
   "cell_type": "code",
   "execution_count": 10,
   "outputs": [],
   "source": [
    "users_df = spark.read.parquet(os.path.join(output_data, \"users/*.parquet\"))"
   ],
   "metadata": {
    "collapsed": false,
    "pycharm": {
     "name": "#%%\n"
    }
   }
  },
  {
   "cell_type": "markdown",
   "source": [
    "#### Plot data size"
   ],
   "metadata": {
    "collapsed": false
   }
  },
  {
   "cell_type": "code",
   "execution_count": 16,
   "metadata": {
    "pycharm": {
     "name": "#%%\n"
    }
   },
   "outputs": [
    {
     "data": {
      "text/plain": "<Figure size 432x288 with 1 Axes>",
      "image/png": "[encoded data removed]"
     },
     "metadata": {
      "needs_background": "light"
     },
     "output_type": "display_data"
    }
   ],
   "source": [
    "dataframes = [songplays_df, artists_df, songs_df, time_df, users_df]\n",
    "rows = []\n",
    "for i, df in enumerate(dataframes):\n",
    "    size = df.count()\n",
    "    rows.append(size)\n",
    "\n",
    "# tables: songplays (Sp), artists (Ar), songs (So), time (Ti), users (Us)\n",
    "tables = [\"Sp\", \"Ar\", \"So\", \"Ti\", \"Us\"]\n",
    "\n",
    "# plt.tight_layout()\n",
    "plt.xlabel(\"tables\", weight='bold')\n",
    "plt.ylabel(\"size\", weight='bold')\n",
    "plt.plot(tables, rows, color='blue')\n",
    "plt.grid()\n",
    "plt.show()"
   ]
  },
  {
   "cell_type": "markdown",
   "source": [
    "#### Views from dataframes"
   ],
   "metadata": {
    "collapsed": false
   }
  },
  {
   "cell_type": "code",
   "execution_count": 12,
   "outputs": [],
   "source": [
    "songplays_df.createOrReplaceTempView(\"songplays\")\n",
    "artists_df.createOrReplaceTempView(\"artists\")\n",
    "songs_df.createOrReplaceTempView(\"songs\")\n",
    "time_df.createOrReplaceTempView(\"time\")\n",
    "users_df.createOrReplaceTempView(\"users\")"
   ],
   "metadata": {
    "collapsed": false,
    "pycharm": {
     "name": "#%%\n"
    }
   }
  },
  {
   "cell_type": "markdown",
   "source": [
    "#### Activity (songs listened) by week day:"
   ],
   "metadata": {
    "collapsed": false
   }
  },
  {
   "cell_type": "code",
   "execution_count": 15,
   "outputs": [
    {
     "data": {
      "text/plain": "<Figure size 432x288 with 1 Axes>",
      "image/png": "[encoded data removed]"
     },
     "metadata": {
      "needs_background": "light"
     },
     "output_type": "display_data"
    }
   ],
   "source": [
    "n_plays_by_day_df = spark.sql(\"\"\"SELECT COUNT (*) AS n_plays FROM songplays AS sp \\\n",
    "    JOIN time ON sp.start_time = time.start_time \\\n",
    "    GROUP BY time.weekday\n",
    "    ORDER BY time.weekday;\"\"\")\n",
    "\n",
    "n_plays_by_day_list = n_plays_by_day_df.select(\"n_plays\").rdd.flatMap(lambda x: x).collect()\n",
    "\n",
    "weekdays = [\"Mo\", \"Tu\", \"We\", \"Th\", \"Fr\", \"Sa\", \"Su\"]\n",
    "\n",
    "# plt.tight_layout()\n",
    "plt.xlabel(\"weekdays\", weight='bold')\n",
    "plt.ylabel(\"num. of plays\", weight='bold')\n",
    "plt.plot(weekdays, n_plays_by_day_list, color='green')\n",
    "plt.grid()\n",
    "plt.show()"
   ],
   "metadata": {
    "collapsed": false,
    "pycharm": {
     "name": "#%%\n"
    }
   }
  }
 ],
 "metadata": {
  "kernelspec": {
   "display_name": "Python 3",
   "language": "python",
   "name": "python3"
  },
  "language_info": {
   "codemirror_mode": {
    "name": "ipython",
    "version": 3
   },
   "file_extension": ".py",
   "mimetype": "text/x-python",
   "name": "python",
   "nbconvert_exporter": "python",
   "pygments_lexer": "ipython3",
   "version": "3.8.2"
  }
 },
 "nbformat": 4,
 "nbformat_minor": 1
}